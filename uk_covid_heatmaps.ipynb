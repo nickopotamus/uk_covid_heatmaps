{
 "cells": [
  {
   "cell_type": "code",
   "execution_count": null,
   "metadata": {},
   "outputs": [],
   "source": [
    "# UK COVID-19 cases/deaths plotted as heatmaps\n",
    "# 2020 Nick Plummer (nickopotamus.co.uk)\n",
    "# Modified from Jason Bowling's US heatmap https://github.com/JasonRBowling/covid19NewCasesPer100KHeatmap\n",
    "# See https://towardsdatascience.com/visualization-of-covid-19-new-cases-over-time-in-python-8c6ac4620c88"
   ]
  },
  {
   "cell_type": "code",
   "execution_count": null,
   "metadata": {},
   "outputs": [],
   "source": [
    "# Pulls UK data using COVID-19 API hhttps://publichealthengland.github.io/coronavirus-dashboard-api-python-sdk/\n",
    "# To add to Jupyter use:\n",
    "#    import sys\n",
    "#    !{sys.executable} -m pip install uk-covid19"
   ]
  },
  {
   "cell_type": "code",
   "execution_count": null,
   "metadata": {},
   "outputs": [],
   "source": [
    "# Import required libraries\n",
    "from uk_covid19 import Cov19API\n",
    "import numpy as np\n",
    "import seaborn as sns\n",
    "import matplotlib.pylab as plt\n",
    "import pandas as pd\n",
    "import datetime\n",
    "import dateutil"
   ]
  },
  {
   "cell_type": "code",
   "execution_count": null,
   "metadata": {},
   "outputs": [],
   "source": [
    "# Population from 2019 census data \n",
    "# https://www.ons.gov.uk/peoplepopulationandcommunity/populationandmigration/populationestimates/bulletins/annualmidyearpopulationestimates/latest\n",
    "\n",
    "regionPopns = [['London',8961989],\n",
    "               ['South East',9180135],\n",
    "               ['East of England',6236072],\n",
    "               ['South West', 5624696],\n",
    "               ['North West', 7341196],\n",
    "               ['East Midlands', 4835928],\n",
    "               ['West Midlands', 5934037],\n",
    "               ['Yorkshire and The Humber', 5502967],\n",
    "               ['North East', 2669941],\n",
    "               ['Scotland', 5463300],\n",
    "               ['Wales', 3152879],\n",
    "               ['Northern Ireland', 1893667]]\n",
    "\n",
    "areaPopulations = {}\n",
    "for row in regionPopns:\n",
    "    key = row[0]\n",
    "    if key in areaPopulations:\n",
    "        pass\n",
    "    areaPopulations[key] = row[1:]"
   ]
  },
  {
   "cell_type": "code",
   "execution_count": null,
   "metadata": {},
   "outputs": [],
   "source": [
    "# Filter\n",
    "all_regions = [\"areaType=region\"] # English regions\n",
    "scotland_only = ['areaType=nation', 'areaName=Scotland']\n",
    "wales_only = ['areaType=nation', 'areaName=Wales']\n",
    "ni_only = ['areaType=nation', 'areaName=Northern Ireland']\n",
    "\n",
    "# Data structure\n",
    "cases_only = {\n",
    "    \"date\": \"date\",\n",
    "    \"area\": \"areaName\",\n",
    "    \"cases\": \"newCasesByPublishDate\"\n",
    "}\n",
    "\n",
    "# Instantiations\n",
    "api_regions = Cov19API(filters=all_regions, structure=cases_only)\n",
    "api_scotland = Cov19API(filters=scotland_only, structure=cases_only)\n",
    "api_wales = Cov19API(filters=wales_only, structure=cases_only)\n",
    "api_ni = Cov19API(filters=ni_only, structure=cases_only)\n",
    "\n",
    "# Get data and combine\n",
    "data_regions = api_regions.get_dataframe()\n",
    "data_scotland = api_scotland.get_dataframe()\n",
    "data_wales = api_wales.get_dataframe()\n",
    "data_ni = api_ni.get_dataframe()\n",
    "full_data = pd.concat([data_regions, data_scotland, data_wales, data_ni])\n",
    "\n",
    "print(full_data)"
   ]
  },
  {
   "cell_type": "code",
   "execution_count": null,
   "metadata": {},
   "outputs": [],
   "source": [
    "# Get data release timestamp and extract just the date\n",
    "release_timestamp = dateutil.parser.parse(Cov19API.get_release_timestamp()).date().strftime(\"%d-%m-%Y\")\n",
    "print(release_timestamp)"
   ]
  },
  {
   "cell_type": "code",
   "execution_count": null,
   "metadata": {},
   "outputs": [],
   "source": [
    "dates = full_data['date'].unique().tolist()\n",
    "areas = full_data['area'].unique().tolist()\n",
    "\n",
    "result = pd.DataFrame()\n",
    "result['date'] = full_data['date']\n",
    "areas.sort()\n",
    "\n",
    "data = full_data\n",
    "for area in areas:\n",
    "    population = int(areaPopulations[area][0])\n",
    "    print(area + \": \" + str(population))\n",
    "    areaData = data[data.area.eq(area)]\n",
    "\n",
    "    newColumnName = area\n",
    "    areaData[newColumnName] = areaData.cases\n",
    "    areaData[newColumnName] = areaData[newColumnName].replace(np.nan, 0)\n",
    "    areaData = areaData.drop(['area'], axis=1)\n",
    "    areaData = areaData.drop(['cases'], axis=1)\n",
    "\n",
    "    # Scale to cases per 100,000 population\n",
    "    areaData[newColumnName] = areaData[newColumnName].div(population)\n",
    "    areaData[newColumnName] = areaData[newColumnName].mul(100000.0)\n",
    "\n",
    "    result = pd.merge(result, areaData, how='left', on='date')"
   ]
  },
  {
   "cell_type": "code",
   "execution_count": null,
   "metadata": {},
   "outputs": [],
   "source": [
    "# Tidy up table\n",
    "result = result.drop_duplicates()\n",
    "result = result.fillna(0)\n",
    "\n",
    "# log(x+1) transform to improve readability\n",
    "for area in areas:\n",
    "    result[area] = result[area].add(1.0)\n",
    "    result[area] = np.log10(result[area])\n",
    "    \n",
    "# Timeseriesify, and start after T1/2 data combined\n",
    "result = result.sort_values(by=['date'], ascending=True)\n",
    "result['date'] = pd.to_datetime(result['date'])\n",
    "result = result[result['date'] >= '2020-07-02']\n",
    "result['date'] = result['date'].dt.strftime('%Y-%m-%d')\n",
    "\n",
    "# Transpose table\n",
    "result.set_index('date', inplace=True)\n",
    "result = result.transpose()\n",
    "\n",
    "print(result)"
   ]
  },
  {
   "cell_type": "code",
   "execution_count": null,
   "metadata": {},
   "outputs": [],
   "source": [
    "%matplotlib inline\n",
    "\n",
    "plt.figure(figsize=(20, 10))\n",
    "g = sns.heatmap(result, cmap=\"coolwarm\", linewidth=0.05, linecolor='lightgrey')\n",
    "plt.xlabel('')\n",
    "plt.ylabel('')\n",
    "\n",
    "plt.title(\"Daily new COVID-19 cases by region /100,000 population\", fontsize=20)\n",
    "\n",
    "updateText = \"Updated: \" + release_timestamp + \\\n",
    "\". Data source: coronavirus.data.gov.uk. Visualisation by @Nickopotamus, modified from @JRBowling\"\n",
    "\n",
    "plt.suptitle(updateText, fontsize=10)\n",
    "\n",
    "plt.yticks(np.arange(.5, (result.shape[0]+0.5), 1.0), areas)\n",
    "\n",
    "plt.yticks(fontsize=8)\n",
    "plt.xticks(fontsize=8)\n",
    "g.set_xticklabels(g.get_xticklabels(), rotation=90)\n",
    "g.set_yticklabels(g.get_yticklabels(), rotation=0)\n",
    "plt.savefig(f\"UK-{release_timestamp}-cases.png\")"
   ]
  }
 ],
 "metadata": {
  "kernelspec": {
   "display_name": "Python 3",
   "language": "python",
   "name": "python3"
  },
  "language_info": {
   "codemirror_mode": {
    "name": "ipython",
    "version": 3
   },
   "file_extension": ".py",
   "mimetype": "text/x-python",
   "name": "python",
   "nbconvert_exporter": "python",
   "pygments_lexer": "ipython3",
   "version": "3.7.9"
  }
 },
 "nbformat": 4,
 "nbformat_minor": 4
}
