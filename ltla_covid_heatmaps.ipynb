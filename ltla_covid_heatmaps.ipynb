{
 "cells": [
  {
   "cell_type": "markdown",
   "metadata": {},
   "source": [
    "# UK local authority COVID-19 cases plotted as heatmaps\n",
    "2020 Nick Plummer (nickopotamus.co.uk)\n",
    "Modified from Jason Bowling's US heatmap https://github.com/JasonRBowling/covid19NewCasesPer100KHeatmap\n",
    "See https://towardsdatascience.com/visualization-of-covid-19-new-cases-over-time-in-python-8c6ac4620c88\n",
    "Pulls UK data using COVID-19 API hhttps://publichealthengland.github.io/coronavirus-dashboard-api-python-sdk/"
   ]
  },
  {
   "cell_type": "code",
   "execution_count": null,
   "metadata": {},
   "outputs": [],
   "source": [
    "# To add to Jupyter use:\n",
    "#    import sys\n",
    "#    !{sys.executable} -m pip install uk-covid19"
   ]
  },
  {
   "cell_type": "code",
   "execution_count": null,
   "metadata": {},
   "outputs": [],
   "source": [
    "from uk_covid19 import Cov19API\n",
    "import numpy as np\n",
    "import seaborn as sns\n",
    "import matplotlib.pylab as plt\n",
    "import pandas as pd\n",
    "import datetime\n",
    "import dateutil"
   ]
  },
  {
   "cell_type": "markdown",
   "metadata": {},
   "source": [
    "## Get baseline LTLA data"
   ]
  },
  {
   "cell_type": "code",
   "execution_count": null,
   "metadata": {},
   "outputs": [],
   "source": [
    "# Import Lower Tier Local Authority List\n",
    "# Populations from 2019 census data \n",
    "# https://www.ons.gov.uk/peoplepopulationandcommunity/populationandmigration/populationestimates/bulletins/annualmidyearpopulationestimates/latest\n",
    "# Correlation to regions from ONS Open Geography Portal\n",
    "# https://geoportal.statistics.gov.uk/datasets/local-authority-district-to-region-april-2019-lookup-in-england?orderBy=LAD19NM&page=7\n",
    "\n",
    "ltlaRegions = pd.read_csv('ltlaRegions.csv')\n",
    "ltlaRegions['population'] = pd.to_numeric(ltlaRegions['population'])\n",
    "\n",
    "# Get list of regions and shorthand names\n",
    "regions = list(ltlaRegions.groupby(\"region\").groups.keys())\n",
    "\n",
    "# Pull first letter of each word in region name\n",
    "codes = []\n",
    "for area in regions:\n",
    "    codes.append(''.join(word[0] for word in area.split()).upper())\n",
    "\n",
    "# TODO: Turn this into a lookup table\n",
    "regionCodes = list(zip(codes,regions))\n",
    "print(regionCodes)"
   ]
  },
  {
   "cell_type": "code",
   "execution_count": null,
   "metadata": {},
   "outputs": [],
   "source": [
    "# Filter LTLAs into regions\n",
    "# TODO: Must be a quicker way of doing this as a for loop using the _regionCodes_ list\n",
    "# Probably using a dictionary eg d = {} for x in range(1, 10): d[\"string{0}\".format(x)] = \"Hello\"\n",
    "popn_EM = ltlaRegions[ltlaRegions['region']=='East Midlands'][['area','population']]\n",
    "popn_EOE = ltlaRegions[ltlaRegions['region']=='East of England'][['area','population']]\n",
    "popn_L = ltlaRegions[ltlaRegions['region']=='London'][['area','population']]\n",
    "popn_NE = ltlaRegions[ltlaRegions['region']=='North East'][['area','population']]\n",
    "popn_NW = ltlaRegions[ltlaRegions['region']=='North West'][['area','population']]\n",
    "popn_S = ltlaRegions[ltlaRegions['region']=='Scotland'][['area','population']]\n",
    "popn_SE = ltlaRegions[ltlaRegions['region']=='South East'][['area','population']]\n",
    "popn_SW = ltlaRegions[ltlaRegions['region']=='South West'][['area','population']]\n",
    "popn_WM = ltlaRegions[ltlaRegions['region']=='West Midlands'][['area','population']]\n",
    "popn_YATH = ltlaRegions[ltlaRegions['region']=='Yorkshire and The Humber'][['area','population']]"
   ]
  },
  {
   "cell_type": "markdown",
   "metadata": {},
   "source": [
    "## API call for LTLA level data"
   ]
  },
  {
   "cell_type": "code",
   "execution_count": null,
   "metadata": {},
   "outputs": [],
   "source": [
    "# TODO: Need to do this as a look up\n",
    "region_code = \"SW\"\n",
    "region_name = \"South West\"\n",
    "popn_region = popn_SW"
   ]
  },
  {
   "cell_type": "code",
   "execution_count": null,
   "metadata": {},
   "outputs": [],
   "source": [
    "# TODO: Turn this into a loop across all the regions\n",
    "\n",
    "full_region = []\n",
    "\n",
    "# Data structure\n",
    "cases_only = {\n",
    "    \"date\": \"date\",\n",
    "    \"area\": \"areaName\",\n",
    "    \"cases\": \"newCasesByPublishDate\",\n",
    "}\n",
    "\n",
    "# Filter for each area within a region, then instantiate\n",
    "for name in popn_region['area'].to_list():\n",
    "    print(name)\n",
    "    regionString = [f'areaType=ltla;areaName={name}']\n",
    "    api = Cov19API(filters=regionString, structure=cases_only)\n",
    "    local_data = api.get_dataframe()\n",
    "    full_region.append(local_data)\n",
    "\n",
    "# Combine tables\n",
    "full_region = pd.concat(full_region)\n",
    "print(full_region)"
   ]
  },
  {
   "cell_type": "code",
   "execution_count": null,
   "metadata": {},
   "outputs": [],
   "source": [
    "# Get data release timestamp and extract just the date\n",
    "release_timestamp = dateutil.parser.parse(Cov19API.get_release_timestamp()).date().strftime(\"%d-%m-%Y\")\n",
    "print(release_timestamp)"
   ]
  },
  {
   "cell_type": "code",
   "execution_count": null,
   "metadata": {},
   "outputs": [],
   "source": [
    "# Save data to avoid having to call API again (takes a long time!)\n",
    "data = full_region\n",
    "\n",
    "dates = data['date'].unique().tolist()\n",
    "areas = data['area'].unique().tolist()\n",
    "\n",
    "result = pd.DataFrame()\n",
    "result['date'] = full_data['date']\n",
    "areas.sort()\n",
    "\n",
    "areaPopulations = popn_region.set_index(\"area\").T.to_dict(\"list\")\n",
    "print(areas)"
   ]
  },
  {
   "cell_type": "code",
   "execution_count": null,
   "metadata": {},
   "outputs": [],
   "source": [
    "for area in areas:\n",
    "    population = int(areaPopulations[area][0])\n",
    "    print(area + \": \" + str(population))\n",
    "    areaData = data[data.area.eq(area)]\n",
    "\n",
    "    newColumnName = area\n",
    "    areaData[newColumnName] = areaData.cases\n",
    "    areaData[newColumnName] = areaData[newColumnName].replace(np.nan, 0)\n",
    "    areaData = areaData.drop(['area'], axis=1)\n",
    "    areaData = areaData.drop(['cases'], axis=1)\n",
    "\n",
    "    # Scale to cases per 100,000 population\n",
    "    areaData[newColumnName] = areaData[newColumnName].div(population)\n",
    "    areaData[newColumnName] = areaData[newColumnName].mul(100000.0)\n",
    "\n",
    "    result = pd.merge(result, areaData, how='left', on='date')"
   ]
  },
  {
   "cell_type": "code",
   "execution_count": null,
   "metadata": {},
   "outputs": [],
   "source": [
    "# Tidy up table\n",
    "result = result.drop_duplicates()\n",
    "result = result.fillna(0)\n",
    "\n",
    "# log(x+1) transform to improve readability\n",
    "for area in areas:\n",
    "    result[area] = result[area].add(1.0)\n",
    "    result[area] = np.log10(result[area])\n",
    "    \n",
    "# Timeseriesify, and start after T1/2 data combined\n",
    "result = result.sort_values(by=['date'], ascending=True)\n",
    "result['date'] = pd.to_datetime(result['date'])\n",
    "result = result[result['date'] >= '2020-07-02']\n",
    "result['date'] = result['date'].dt.strftime('%Y-%m-%d')\n",
    "\n",
    "# Transpose table\n",
    "result.set_index('date', inplace=True)\n",
    "result = result.transpose()\n",
    "\n",
    "print(result)"
   ]
  },
  {
   "cell_type": "code",
   "execution_count": null,
   "metadata": {},
   "outputs": [],
   "source": [
    "%matplotlib inline\n",
    "\n",
    "plt.figure(figsize=(20, 10))\n",
    "g = sns.heatmap(result, cmap=\"coolwarm\", linewidth=0.05, linecolor='lightgrey')\n",
    "plt.xlabel('')\n",
    "plt.ylabel('')\n",
    "\n",
    "plt.title(f\"Daily new COVID-19 cases in {region_name} by LTLA /100,000 population\", fontsize=20)\n",
    "\n",
    "updateText = \"Updated: \" + release_timestamp + \\\n",
    "\". Data source: coronavirus.data.gov.uk. Visualisation by @Nickopotamus, modified from @JRBowling\"\n",
    "\n",
    "plt.suptitle(updateText, fontsize=10)\n",
    "\n",
    "plt.yticks(np.arange(.5, (result.shape[0]+0.5), 1.0), areas)\n",
    "\n",
    "plt.yticks(fontsize=8)\n",
    "plt.xticks(fontsize=8)\n",
    "g.set_xticklabels(g.get_xticklabels(), rotation=90)\n",
    "g.set_yticklabels(g.get_yticklabels(), rotation=0)\n",
    "plt.savefig(f\"{region_code}-{release_timestamp}-cases.png\")"
   ]
  }
 ],
 "metadata": {
  "kernelspec": {
   "display_name": "Python 3",
   "language": "python",
   "name": "python3"
  },
  "language_info": {
   "codemirror_mode": {
    "name": "ipython",
    "version": 3
   },
   "file_extension": ".py",
   "mimetype": "text/x-python",
   "name": "python",
   "nbconvert_exporter": "python",
   "pygments_lexer": "ipython3",
   "version": "3.7.9"
  }
 },
 "nbformat": 4,
 "nbformat_minor": 4
}
